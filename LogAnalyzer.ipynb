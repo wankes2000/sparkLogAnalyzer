{
 "cells": [
  {
   "cell_type": "code",
   "execution_count": 13,
   "metadata": {
    "collapsed": true
   },
   "outputs": [],
   "source": [
    "import re\n",
    "\n",
    "from pyspark.sql import Row"
   ]
  },
  {
   "cell_type": "code",
   "execution_count": 27,
   "metadata": {
    "collapsed": false
   },
   "outputs": [],
   "source": [
    "APACHE_ACCESS_LOG_PATTERN = '^(\\S+) (\\S+) (\\S+) \\[([\\w:/]+\\s[+\\-]\\d{4})\\] \"(\\S+)?\\s*(\\S+)?\\s*(\\S+)?\\s*\" (\\d{3}) (\\d+|-)'\n",
    "\n",
    "# Returns a dictionary containing the parts of the Apache Access Log.\n",
    "def parse_apache_log_line(logline):\n",
    "    match = re.search(APACHE_ACCESS_LOG_PATTERN, logline)\n",
    "    if match is None:\n",
    "        raise Exception(\"Invalid logline: %s\" % logline)\n",
    "    return Row(\n",
    "        ip_address    = match.group(1),\n",
    "        client_identd = match.group(2),\n",
    "        user_id       = match.group(3),\n",
    "        date_time     = match.group(4),\n",
    "        method        = match.group(5),\n",
    "        endpoint      = match.group(6),\n",
    "        protocol      = match.group(7),\n",
    "        response_code = int(match.group(8)),\n",
    "        content_size  = long(match.group(9)) if  match.group(9) != '-' else  0\n",
    "    )"
   ]
  },
  {
   "cell_type": "code",
   "execution_count": 28,
   "metadata": {
    "collapsed": true
   },
   "outputs": [],
   "source": [
    "access_logs = (sc.textFile(\"sample_access_log\")\n",
    "               .map(parse_apache_log_line)\n",
    "               .cache())"
   ]
  },
  {
   "cell_type": "code",
   "execution_count": 29,
   "metadata": {
    "collapsed": false
   },
   "outputs": [
    {
     "name": "stdout",
     "output_type": "stream",
     "text": [
      "Response Code Counts: [(200, 1274), (304, 137), (408, 1), (404, 5), (302, 6), (401, 123)]\n"
     ]
    }
   ],
   "source": [
    "# Response Code to Count\n",
    "responseCodeToCount = (access_logs.map(lambda log: (log.response_code, 1))\n",
    "                       .reduceByKey(lambda a, b : a + b)\n",
    "                       .take(100))\n",
    "print \"Response Code Counts: %s\" % (responseCodeToCount)"
   ]
  },
  {
   "cell_type": "code",
   "execution_count": 30,
   "metadata": {
    "collapsed": false
   },
   "outputs": [
    {
     "name": "stdout",
     "output_type": "stream",
     "text": [
      "IpAddresses that have accessed more then 10 times: [u'10.0.0.153', u'208-38-57-205.ip.cal.radiant.net', u'mail.geovariances.fr', u'ip68-228-43-49.tc.ph.cox.net', u'proxy0.haifa.ac.il', u'lhr003a.dhl.com', u'200-55-104-193.dsl.prima.net.ar', u'h24-70-69-74.ca.shawcable.net', u'195.246.13.119', u'p213.54.168.132.tisdip.tiscali.de', u'203.147.138.233', u'h24-71-236-129.ca.shawcable.net', u'212.92.37.62', u'216-160-111-121.tukw.qwest.net', u'cr020r01-3.sac.overture.com', u'ns.wtbts.org', u'prxint-sxb3.e-i.net', u'pc3-registry-stockholm.telia.net', u'market-mail.panduit.com', u'ts04-ip92.hevanet.com', u'64.242.88.10', u'128.227.88.79', u'ogw.netinfo.bg', u'2-110.cnc.bc.ca', u'207.195.59.160', u'ts05-ip44.hevanet.com']\n"
     ]
    }
   ],
   "source": [
    "# Any IPAddress that has accessed the server more than 10 times.\n",
    "ipAddresses = (access_logs\n",
    "               .map(lambda log: (log.ip_address, 1))\n",
    "               .reduceByKey(lambda a, b : a + b)\n",
    "               .filter(lambda s: s[1] > 10)\n",
    "               .map(lambda s: s[0])\n",
    "               .take(100))\n",
    "print \"IpAddresses that have accessed more then 10 times: %s\" % (ipAddresses)"
   ]
  },
  {
   "cell_type": "code",
   "execution_count": 31,
   "metadata": {
    "collapsed": false
   },
   "outputs": [
    {
     "name": "stdout",
     "output_type": "stream",
     "text": [
      "Top Endpoints: [(u'/twiki/pub/TWiki/TWikiLogos/twikiRobot46x50.gif', 64), (u'/', 47), (u'/twiki/bin/view/Main/WebHome', 41), (u'/icons/mailman.jpg', 37), (u'/icons/gnu-head-tiny.jpg', 37), (u'/icons/PythonPowered.png', 37), (u'/favicon.ico', 28), (u'/robots.txt', 27), (u'/razor.html', 26), (u'/twiki/bin/view/Main/SpamAssassinTaggingOnly', 18)]\n"
     ]
    }
   ],
   "source": [
    "# Top Endpoints\n",
    "topEndpoints = (access_logs\n",
    "                .map(lambda log: (log.endpoint, 1))\n",
    "                .reduceByKey(lambda a, b : a + b)\n",
    "                .takeOrdered(10, lambda s: -1 * s[1]))\n",
    "print \"Top Endpoints: %s\" % (topEndpoints)"
   ]
  },
  {
   "cell_type": "code",
   "execution_count": 32,
   "metadata": {
    "collapsed": false
   },
   "outputs": [
    {
     "name": "stdout",
     "output_type": "stream",
     "text": [
      "Top Endpoints: 7078.54075032\n"
     ]
    }
   ],
   "source": [
    "# Average Content Size\n",
    "averageContentSize = (access_logs\n",
    "                .map(lambda log: log.content_size)\n",
    "                .mean())\n",
    "print \"Avg Content Size: %s\" % (averageContentSize)"
   ]
  },
  {
   "cell_type": "code",
   "execution_count": null,
   "metadata": {
    "collapsed": true
   },
   "outputs": [],
   "source": []
  }
 ],
 "metadata": {
  "kernelspec": {
   "display_name": "Python 2",
   "language": "python",
   "name": "python2"
  },
  "language_info": {
   "codemirror_mode": {
    "name": "ipython",
    "version": 2
   },
   "file_extension": ".py",
   "mimetype": "text/x-python",
   "name": "python",
   "nbconvert_exporter": "python",
   "pygments_lexer": "ipython2",
   "version": "2.7.6"
  }
 },
 "nbformat": 4,
 "nbformat_minor": 0
}
